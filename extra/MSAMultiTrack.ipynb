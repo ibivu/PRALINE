{
 "cells": [
  {
   "cell_type": "markdown",
   "metadata": {},
   "source": [
    "# Advanced multiple sequence alignment - multiple tracks\n",
    "\n",
    "This example is equal to the \"MSABasic\" example, except for the fact that it uses two additional tracks in the scoring:\n",
    "* A track containing a motif prediction for the N-terminal glycosylation motif (`N-{P}-[ST]-{P}`).\n",
    "* A track containing the predicted (3-state) secondary structure.\n",
    "\n",
    "## Import and setup PRALINE 2"
   ]
  },
  {
   "cell_type": "code",
   "execution_count": null,
   "metadata": {},
   "outputs": [],
   "source": [
    "import praline\n",
    "import praline.container\n",
    "import praline.component\n",
    "from praline.core import *\n",
    "\n",
    "# Will automatically load all components which are installed.\n",
    "index = TypeIndex()\n",
    "index.autoregister()\n",
    "\n",
    "# Will be used to actually run the PRALINE alignments.\n",
    "manager = Manager(index)"
   ]
  },
  {
   "cell_type": "markdown",
   "metadata": {},
   "source": [
    "## Create custom alphabets"
   ]
  },
  {
   "cell_type": "code",
   "execution_count": null,
   "metadata": {},
   "outputs": [],
   "source": [
    "ALPHABET_3STATE_SS = praline.container.Alphabet(\n",
    "    'praline.example.ThreeStateSecondaryStructure', \n",
    "    [('C', 0), ('H', 1), ('E', 2)]\n",
    ")\n",
    "\n",
    "ALPHABET_MOTIF = praline.container.Alphabet(\n",
    "    'praline.example.SimpleMotifMatch', \n",
    "    [('*', 0), ('M', 1)]\n",
    ")"
   ]
  },
  {
   "cell_type": "markdown",
   "metadata": {},
   "source": [
    "## Load/create score matrices and setup environment\n",
    "\n",
    "To see more options you can configure in the alignment environment, see the comments at the top of every Component subclass."
   ]
  },
  {
   "cell_type": "code",
   "execution_count": null,
   "metadata": {},
   "outputs": [],
   "source": [
    "# Load score matrix.\n",
    "with praline.open_builtin('matrices/blosum62') as f:\n",
    "    score_matrix = praline.load_score_matrix(f, alphabet=praline.component.ALPHABET_AA)\n",
    "\n",
    "# Very simple scoring matrices\n",
    "MOTIF_SCORES = {\n",
    "    ('M', 'M'): 15,\n",
    "    ('M', '*'): 0,\n",
    "    ('*', 'M'): 0,\n",
    "    ('*', '*'): 0,\n",
    "}\n",
    "\n",
    "SS_SCORES = {\n",
    "    ('C', 'C'): 3,\n",
    "    ('C', 'H'): 0,\n",
    "    ('C', 'E'): 0,\n",
    "    ('H', 'H'): 3,\n",
    "    ('H', 'C'): 0,\n",
    "    ('H', 'E'): 0,\n",
    "    ('E', 'E'): 3,\n",
    "    ('E', 'C'): 0,\n",
    "    ('E', 'H'): 0,\n",
    "}\n",
    "    \n",
    "score_matrix_motif = praline.container.ScoreMatrix(MOTIF_SCORES, [ALPHABET_MOTIF, ALPHABET_MOTIF])    \n",
    "score_matrix_ss = praline.container.ScoreMatrix(SS_SCORES, [ALPHABET_3STATE_SS, ALPHABET_3STATE_SS])    \n",
    "\n",
    "# Setup environment.\n",
    "keys = {}\n",
    "keys['gap_series'] = [-11., -1.]\n",
    "keys['linkage_method'] = 'average'\n",
    "keys['aligner'] = praline.component.PairwiseAligner.tid\n",
    "keys['merge_mode'] = 'global'\n",
    "keys['dist_mode'] = 'global'\n",
    "\n",
    "env = Environment(keys=keys)\n",
    "\n",
    "# Initialize root node for output\n",
    "root_node = TaskNode(\"__ROOT__\")"
   ]
  },
  {
   "cell_type": "markdown",
   "metadata": {},
   "source": [
    "## Load sequences & attach additional tracks"
   ]
  },
  {
   "cell_type": "code",
   "execution_count": null,
   "metadata": {},
   "outputs": [],
   "source": [
    "TRACK_ID_SS = 'praline.example.SecondaryStructureTrack'\n",
    "TRACK_ID_MOTIF = 'praline.example.MotifTrack'\n",
    "\n",
    "seqs = praline.load_sequence_fasta('./data/BBA0184.tfa', praline.container.ALPHABET_AA)\n",
    "seqs_motif = praline.load_sequence_fasta('./data/BBA0184.motif.tfa', ALPHABET_MOTIF)\n",
    "seqs_ss = praline.load_sequence_fasta('./data/BBA0184.ss.tfa', ALPHABET_3STATE_SS)\n",
    "\n",
    "# We assume the motif & secondary structure sequences are given in the same order as the AA sequences. \n",
    "# If not, we'd have to key them by the sequence name or something similar.\n",
    "for i, (seq, seq_ss, seq_motif) in enumerate(zip(seqs, seqs_ss, seqs_motif)):\n",
    "    track_motif = seq_motif.get_track(praline.container.TRACK_ID_INPUT)\n",
    "    track_ss = seq_ss.get_track(praline.container.TRACK_ID_INPUT)\n",
    "    \n",
    "    seq.add_track(TRACK_ID_MOTIF, track_motif)\n",
    "    seq.add_track(TRACK_ID_SS, track_ss)\n",
    "\n",
    "seqs"
   ]
  },
  {
   "cell_type": "markdown",
   "metadata": {},
   "source": [
    "## Build preprofiles"
   ]
  },
  {
   "cell_type": "code",
   "execution_count": null,
   "metadata": {},
   "outputs": [],
   "source": [
    "# Create an execution context for performing the master slave alignments.\n",
    "execution = Execution(manager, \"__ROOT__\")\n",
    "\n",
    "# Iterate over all our input sequences, letting each have its turn as the master sequence.\n",
    "seq_set = set(seqs)\n",
    "for seq in seqs:\n",
    "    task = execution.add_task(praline.component.GlobalMasterSlaveAligner)\n",
    "    task.inputs(\n",
    "        master_sequence=seq,         \n",
    "        slave_sequences=list(seq_set - {seq}), \n",
    "        track_id_sets=[[praline.container.TRACK_ID_INPUT], [TRACK_ID_MOTIF], [TRACK_ID_SS]],\n",
    "        score_matrices=[score_matrix, score_matrix_motif, score_matrix_ss]\n",
    "    )\n",
    "    task.environment(env)\n",
    "\n",
    "# Execute the tasks and collect the resulting master slave alignments\n",
    "messages = [msg for msg in execution.run()]\n",
    "alignments = [o['alignment'] for o in execution.outputs]"
   ]
  },
  {
   "cell_type": "code",
   "execution_count": null,
   "metadata": {},
   "outputs": [],
   "source": [
    "# Create an execution context for building the preprofiles\n",
    "execution = Execution(manager, \"__ROOT__\")\n",
    "for aln in alignments:\n",
    "    task = execution.add_task(praline.component.ProfileBuilder)\n",
    "    task.inputs(\n",
    "        alignment=aln,\n",
    "        track_id=praline.container.TRACK_ID_INPUT\n",
    "    )\n",
    "    task.environment(env)\n",
    "\n",
    "# Execute the tasks and add the resulting preprofile tracks to our input sequences\n",
    "messages = [msg for msg in execution.run()]\n",
    "for i, output in enumerate(execution.outputs):\n",
    "    track = output['profile_track']\n",
    "    seqs[i].add_track(praline.container.TRACK_ID_PREPROFILE, track)"
   ]
  },
  {
   "cell_type": "markdown",
   "metadata": {},
   "source": [
    "## Build guide tree with preprofiles, extra tracks"
   ]
  },
  {
   "cell_type": "code",
   "execution_count": null,
   "metadata": {},
   "outputs": [],
   "source": [
    "# Create an execution context for building the guide tree\n",
    "execution = Execution(manager, \"__ROOT__\")\n",
    "task = execution.add_task(praline.component.GuideTreeBuilder)\n",
    "task.inputs(\n",
    "    sequences=seqs, \n",
    "    track_id_sets=[[praline.container.TRACK_ID_PREPROFILE], [TRACK_ID_MOTIF], [TRACK_ID_SS]], \n",
    "    score_matrices=[score_matrix, score_matrix_motif, score_matrix_ss]\n",
    ")\n",
    "task.environment(env)\n",
    "\n",
    "messages = [msg for msg in execution.run()]\n",
    "tree = execution.outputs[0]['guide_tree']"
   ]
  },
  {
   "cell_type": "markdown",
   "metadata": {},
   "source": [
    "## Use guide tree, preprofiles and extra tracks to progressively construct MSA"
   ]
  },
  {
   "cell_type": "code",
   "execution_count": null,
   "metadata": {},
   "outputs": [],
   "source": [
    "# Create an execution context for building the final MSA\n",
    "execution = Execution(manager, \"__ROOT__\")\n",
    "task = execution.add_task(praline.component.TreeMultipleSequenceAligner)\n",
    "task.inputs(\n",
    "    sequences=seqs, \n",
    "    guide_tree=tree, \n",
    "    track_id_sets=[[praline.container.TRACK_ID_PREPROFILE], [TRACK_ID_MOTIF], [TRACK_ID_SS]], \n",
    "    score_matrices=[score_matrix, score_matrix_motif, score_matrix_ss]\n",
    ")\n",
    "task.environment(env)\n",
    "\n",
    "messages = [msg for msg in execution.run()]\n",
    "msa = execution.outputs[0]['alignment']"
   ]
  },
  {
   "cell_type": "markdown",
   "metadata": {},
   "source": [
    "## Write MSA to disk"
   ]
  },
  {
   "cell_type": "code",
   "execution_count": null,
   "metadata": {},
   "outputs": [],
   "source": [
    "praline.write_alignment_fasta('data/BBA0184.multitrack.aln', msa, praline.container.TRACK_ID_INPUT)"
   ]
  },
  {
   "cell_type": "code",
   "execution_count": null,
   "metadata": {},
   "outputs": [],
   "source": []
  }
 ],
 "metadata": {
  "kernelspec": {
   "display_name": "Python 3",
   "language": "python",
   "name": "python3"
  },
  "language_info": {
   "codemirror_mode": {
    "name": "ipython",
    "version": 3
   },
   "file_extension": ".py",
   "mimetype": "text/x-python",
   "name": "python",
   "nbconvert_exporter": "python",
   "pygments_lexer": "ipython3",
   "version": "3.6.4"
  },
  "nav_menu": {},
  "toc": {
   "navigate_menu": true,
   "number_sections": true,
   "sideBar": true,
   "threshold": 6,
   "toc_cell": false,
   "toc_section_display": "block",
   "toc_window_display": false
  }
 },
 "nbformat": 4,
 "nbformat_minor": 2
}
