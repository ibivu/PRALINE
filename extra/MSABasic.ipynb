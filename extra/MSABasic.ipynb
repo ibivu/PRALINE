{
 "cells": [
  {
   "cell_type": "markdown",
   "metadata": {},
   "source": [
    "# Basic multiple sequence alignment example\n",
    "\n",
    "This example shows how to align a fasta file with a number of sequences. No extra tracks are used, and BLOSUM62 is used to score amino acid substitutions. The gap open penalty is 11, with a gap extension penalty of 1.\n",
    "\n",
    "## Import and setup PRALINE 2"
   ]
  },
  {
   "cell_type": "code",
   "execution_count": null,
   "metadata": {},
   "outputs": [],
   "source": [
    "import praline\n",
    "import praline.container\n",
    "import praline.component\n",
    "from praline.core import *\n",
    "\n",
    "# Will automatically load all components which are installed.\n",
    "index = TypeIndex()\n",
    "index.autoregister()\n",
    "\n",
    "# Will be used to actually run the PRALINE alignments.\n",
    "manager = Manager(index)"
   ]
  },
  {
   "cell_type": "markdown",
   "metadata": {},
   "source": [
    "## Load score matrix and setup environment\n",
    "\n",
    "To see more options you can configure in the alignment environment, see the comments at the top of every Component subclass."
   ]
  },
  {
   "cell_type": "code",
   "execution_count": null,
   "metadata": {},
   "outputs": [],
   "source": [
    "# Load score matrix.\n",
    "with praline.open_builtin('matrices/blosum62') as f:\n",
    "    score_matrix = praline.load_score_matrix(f, alphabet=praline.component.ALPHABET_AA)\n",
    "\n",
    "# Setup environment.\n",
    "keys = {}\n",
    "keys['gap_series'] = [-11., -1.]\n",
    "keys['linkage_method'] = 'average'\n",
    "keys['aligner'] = praline.component.PairwiseAligner.tid\n",
    "keys['merge_mode'] = 'global'\n",
    "keys['dist_mode'] = 'global'\n",
    "\n",
    "env = Environment(keys=keys)\n",
    "\n",
    "# Initialize root node for output\n",
    "root_node = TaskNode(\"__ROOT__\")"
   ]
  },
  {
   "cell_type": "markdown",
   "metadata": {},
   "source": [
    "## Load sequences"
   ]
  },
  {
   "cell_type": "code",
   "execution_count": null,
   "metadata": {},
   "outputs": [],
   "source": [
    "seqs = praline.load_sequence_fasta('./data/BBA0184.tfa', praline.container.ALPHABET_AA)\n",
    "seqs"
   ]
  },
  {
   "cell_type": "markdown",
   "metadata": {},
   "source": [
    "## Build preprofiles"
   ]
  },
  {
   "cell_type": "code",
   "execution_count": null,
   "metadata": {},
   "outputs": [],
   "source": [
    "# Create an execution context for performing the master slave alignments.\n",
    "execution = Execution(manager, \"__ROOT__\")\n",
    "\n",
    "# Iterate over all our input sequences, letting each have its turn as the master sequence.\n",
    "seq_set = set(seqs)\n",
    "for seq in seqs:\n",
    "    task = execution.add_task(praline.component.GlobalMasterSlaveAligner)\n",
    "    task.inputs(\n",
    "        master_sequence=seq,         \n",
    "        slave_sequences=list(seq_set - {seq}), \n",
    "        track_id_sets=[[praline.container.TRACK_ID_INPUT]],\n",
    "        score_matrices=[score_matrix]\n",
    "    )\n",
    "    task.environment(env)\n",
    "\n",
    "# Execute the tasks and collect the resulting master slave alignments\n",
    "messages = [msg for msg in execution.run()]\n",
    "alignments = [o['alignment'] for o in execution.outputs]"
   ]
  },
  {
   "cell_type": "code",
   "execution_count": null,
   "metadata": {},
   "outputs": [],
   "source": [
    "# Create an execution context for building the preprofiles\n",
    "execution = Execution(manager, \"__ROOT__\")\n",
    "for aln in alignments:\n",
    "    task = execution.add_task(praline.component.ProfileBuilder)\n",
    "    task.inputs(\n",
    "        alignment=aln,\n",
    "        track_id=praline.container.TRACK_ID_INPUT\n",
    "    )\n",
    "    task.environment(env)\n",
    "\n",
    "# Execute the tasks and add the resulting preprofile tracks to our input sequences\n",
    "messages = [msg for msg in execution.run()]\n",
    "for i, output in enumerate(execution.outputs):\n",
    "    track = output['profile_track']\n",
    "    seqs[i].add_track(praline.container.TRACK_ID_PREPROFILE, track)"
   ]
  },
  {
   "cell_type": "markdown",
   "metadata": {},
   "source": [
    "## Build guide tree with preprofiles"
   ]
  },
  {
   "cell_type": "code",
   "execution_count": null,
   "metadata": {},
   "outputs": [],
   "source": [
    "# Create an execution context for building the guide tree\n",
    "execution = Execution(manager, \"__ROOT__\")\n",
    "task = execution.add_task(praline.component.GuideTreeBuilder)\n",
    "task.inputs(sequences=seqs, track_id_sets=[[praline.container.TRACK_ID_PREPROFILE]], score_matrices=[score_matrix])\n",
    "task.environment(env)\n",
    "\n",
    "messages = [msg for msg in execution.run()]\n",
    "tree = execution.outputs[0]['guide_tree']"
   ]
  },
  {
   "cell_type": "markdown",
   "metadata": {},
   "source": [
    "## Use guide tree and preprofiles sequences to progressively construct MSA"
   ]
  },
  {
   "cell_type": "code",
   "execution_count": null,
   "metadata": {},
   "outputs": [],
   "source": [
    "# Create an execution context for building the final MSA\n",
    "execution = Execution(manager, \"__ROOT__\")\n",
    "task = execution.add_task(praline.component.TreeMultipleSequenceAligner)\n",
    "task.inputs(sequences=seqs, guide_tree=tree, track_id_sets=[[praline.container.TRACK_ID_PREPROFILE]], score_matrices=[score_matrix])\n",
    "task.environment(env)\n",
    "\n",
    "messages = [msg for msg in execution.run()]\n",
    "msa = execution.outputs[0]['alignment']"
   ]
  },
  {
   "cell_type": "markdown",
   "metadata": {},
   "source": [
    "## Write MSA to disk"
   ]
  },
  {
   "cell_type": "code",
   "execution_count": null,
   "metadata": {},
   "outputs": [],
   "source": [
    "praline.write_alignment_fasta('data/BBA0184.aln', msa, praline.container.TRACK_ID_INPUT)"
   ]
  }
 ],
 "metadata": {
  "kernelspec": {
   "display_name": "Python 3",
   "language": "python",
   "name": "python3"
  },
  "language_info": {
   "codemirror_mode": {
    "name": "ipython",
    "version": 3
   },
   "file_extension": ".py",
   "mimetype": "text/x-python",
   "name": "python",
   "nbconvert_exporter": "python",
   "pygments_lexer": "ipython3",
   "version": "3.6.4"
  },
  "nav_menu": {},
  "toc": {
   "navigate_menu": true,
   "number_sections": true,
   "sideBar": true,
   "threshold": 6,
   "toc_cell": false,
   "toc_section_display": "block",
   "toc_window_display": false
  }
 },
 "nbformat": 4,
 "nbformat_minor": 2
}
